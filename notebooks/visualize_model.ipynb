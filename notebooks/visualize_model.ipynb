{
 "cells": [
  {
   "cell_type": "code",
   "execution_count": 2,
   "id": "2c52ecbd",
   "metadata": {},
   "outputs": [],
   "source": [
    "import torch\n",
    "import torch.nn as nn\n",
    "import os"
   ]
  },
  {
   "cell_type": "code",
   "execution_count": 8,
   "id": "360b2bc5",
   "metadata": {},
   "outputs": [],
   "source": [
    "# Find the absolute project root dynamically based on the current file location\n",
    "current_file_dir = os.path.dirname(os.path.abspath(__file__)) if '__file__' in globals() else os.getcwd()\n",
    "BASE_DIR = os.path.abspath(os.path.join(current_file_dir, \"..\"))\n",
    "\n",
    "DATA_DIR = os.path.join(BASE_DIR, \"data\")\n",
    "MODEL_DIR = os.path.join(BASE_DIR, \"models\")\n",
    "\n",
    "file_path = os.path.join(MODEL_DIR, 'bc_model.pth')"
   ]
  },
  {
   "cell_type": "code",
   "execution_count": 9,
   "id": "e668746a",
   "metadata": {},
   "outputs": [],
   "source": [
    "if not os.path.exists(file_path):\n",
    "    print(f\"Warning: Model not found at: {file_path}\")\n",
    "else:\n",
    "    # Proceed with loading the model here\n",
    "    pass"
   ]
  },
  {
   "cell_type": "code",
   "execution_count": 11,
   "id": "bf3934d9",
   "metadata": {},
   "outputs": [
    {
     "data": {
      "text/plain": [
       "BCModel(\n",
       "  (net): Sequential(\n",
       "    (0): Linear(in_features=7, out_features=128, bias=True)\n",
       "    (1): ReLU()\n",
       "    (2): Linear(in_features=128, out_features=7, bias=True)\n",
       "  )\n",
       ")"
      ]
     },
     "execution_count": 11,
     "metadata": {},
     "output_type": "execute_result"
    }
   ],
   "source": [
    "# Define BC Model Again\n",
    "class BCModel(nn.Module):\n",
    "    def __init__(self):\n",
    "        super().__init__()\n",
    "        self.net = nn.Sequential(\n",
    "            nn.Linear(7, 128),\n",
    "            nn.ReLU(),\n",
    "            nn.Linear(128, 7)\n",
    "        )\n",
    "\n",
    "    def forward(self, x):\n",
    "        return self.net(x)\n",
    "\n",
    "model = BCModel()\n",
    "model.load_state_dict(torch.load(file_path))\n",
    "model.eval()"
   ]
  },
  {
   "cell_type": "code",
   "execution_count": 12,
   "id": "b0e32473",
   "metadata": {},
   "outputs": [
    {
     "name": "stdout",
     "output_type": "stream",
     "text": [
      "Predicted Actions for Sample States:\n",
      " [[0.7211858  1.0027367  0.71034104 0.5160428  0.70419854 0.9232183\n",
      "  0.56524724]\n",
      " [0.71278924 0.74677205 0.8672247  0.559832   0.5257377  1.2033138\n",
      "  0.6450333 ]\n",
      " [0.87614655 0.5408053  0.5981786  0.46281207 0.6776964  0.8831862\n",
      "  0.6028803 ]\n",
      " [0.6403762  0.54328114 1.0347357  0.5177964  0.61502635 0.7390717\n",
      "  0.7818668 ]\n",
      " [1.4180121  0.14557631 1.2673876  0.5801038  0.57914084 0.6345424\n",
      "  0.96067256]\n",
      " [1.212083   0.59703416 1.3690614  0.6936936  0.529771   1.6309533\n",
      "  0.8855867 ]\n",
      " [1.255387   0.18826197 0.67188406 0.7753591  0.71115637 0.9236139\n",
      "  0.9446333 ]\n",
      " [1.2966685  0.56889176 0.83950806 0.59042764 0.88406026 0.37953246\n",
      "  0.9803912 ]\n",
      " [0.52026737 0.50386894 0.44543633 0.53065777 0.4783346  0.46486184\n",
      "  0.55192554]\n",
      " [0.9196117  0.235091   0.82352775 0.68676645 0.6327492  0.7158605\n",
      "  0.6584644 ]]\n"
     ]
    }
   ],
   "source": [
    "# Predict Actions for Some Random States\n",
    "test_states = torch.randn(10, 7)  # 10 random test states\n",
    "predicted_actions = model(test_states).detach().numpy()\n",
    "\n",
    "print(\"Predicted Actions for Sample States:\\n\", predicted_actions)"
   ]
  }
 ],
 "metadata": {
  "kernelspec": {
   "display_name": "venv",
   "language": "python",
   "name": "python3"
  },
  "language_info": {
   "codemirror_mode": {
    "name": "ipython",
    "version": 3
   },
   "file_extension": ".py",
   "mimetype": "text/x-python",
   "name": "python",
   "nbconvert_exporter": "python",
   "pygments_lexer": "ipython3",
   "version": "3.13.3"
  }
 },
 "nbformat": 4,
 "nbformat_minor": 5
}
